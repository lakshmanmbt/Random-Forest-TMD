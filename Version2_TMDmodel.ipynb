{
 "cells": [
  {
   "cell_type": "code",
   "execution_count": 1,
   "metadata": {},
   "outputs": [],
   "source": [
    "import joblib\n",
    "import pandas as pd\n",
    "from sklearn.metrics import accuracy_score"
   ]
  },
  {
   "cell_type": "code",
   "execution_count": 2,
   "metadata": {},
   "outputs": [],
   "source": [
    "model_path = r\"D:\\Motiv ai\\Random-Forest-TMD\\random_forest_model.pkl\"\n",
    "model = joblib.load(model_path)"
   ]
  },
  {
   "cell_type": "code",
   "execution_count": 3,
   "metadata": {},
   "outputs": [],
   "source": [
    "dataset_path = r\"D:\\Motiv ai\\Random-Forest-TMD\\tmd\\dataset_5secondWindow%5B3%5D.csv\"\n",
    "data = pd.read_csv(dataset_path)"
   ]
  },
  {
   "cell_type": "code",
   "execution_count": 4,
   "metadata": {},
   "outputs": [
    {
     "data": {
      "text/html": [
       "<div>\n",
       "<style scoped>\n",
       "    .dataframe tbody tr th:only-of-type {\n",
       "        vertical-align: middle;\n",
       "    }\n",
       "\n",
       "    .dataframe tbody tr th {\n",
       "        vertical-align: top;\n",
       "    }\n",
       "\n",
       "    .dataframe thead th {\n",
       "        text-align: right;\n",
       "    }\n",
       "</style>\n",
       "<table border=\"1\" class=\"dataframe\">\n",
       "  <thead>\n",
       "    <tr style=\"text-align: right;\">\n",
       "      <th></th>\n",
       "      <th>time</th>\n",
       "      <th>android.sensor.accelerometer#mean</th>\n",
       "      <th>android.sensor.accelerometer#min</th>\n",
       "      <th>android.sensor.accelerometer#max</th>\n",
       "      <th>android.sensor.accelerometer#std</th>\n",
       "      <th>android.sensor.game_rotation_vector#mean</th>\n",
       "      <th>android.sensor.game_rotation_vector#min</th>\n",
       "      <th>android.sensor.game_rotation_vector#max</th>\n",
       "      <th>android.sensor.game_rotation_vector#std</th>\n",
       "      <th>android.sensor.gyroscope#mean</th>\n",
       "      <th>...</th>\n",
       "      <th>android.sensor.rotation_vector#std</th>\n",
       "      <th>sound#mean</th>\n",
       "      <th>sound#min</th>\n",
       "      <th>sound#max</th>\n",
       "      <th>sound#std</th>\n",
       "      <th>speed#mean</th>\n",
       "      <th>speed#min</th>\n",
       "      <th>speed#max</th>\n",
       "      <th>speed#std</th>\n",
       "      <th>target</th>\n",
       "    </tr>\n",
       "  </thead>\n",
       "  <tbody>\n",
       "    <tr>\n",
       "      <th>0</th>\n",
       "      <td>78.0</td>\n",
       "      <td>9.811476</td>\n",
       "      <td>9.758895</td>\n",
       "      <td>9.849411</td>\n",
       "      <td>0.014626</td>\n",
       "      <td>0.029340</td>\n",
       "      <td>0.029014</td>\n",
       "      <td>0.029526</td>\n",
       "      <td>0.000119</td>\n",
       "      <td>0.001651</td>\n",
       "      <td>...</td>\n",
       "      <td>0.002109</td>\n",
       "      <td>0.000000</td>\n",
       "      <td>0.000000</td>\n",
       "      <td>0.000000</td>\n",
       "      <td>0.000000</td>\n",
       "      <td>0.000000</td>\n",
       "      <td>0.000000</td>\n",
       "      <td>0.000000</td>\n",
       "      <td>0.000000</td>\n",
       "      <td>Still</td>\n",
       "    </tr>\n",
       "    <tr>\n",
       "      <th>1</th>\n",
       "      <td>145.0</td>\n",
       "      <td>9.939207</td>\n",
       "      <td>7.707437</td>\n",
       "      <td>17.146631</td>\n",
       "      <td>1.775944</td>\n",
       "      <td>0.999925</td>\n",
       "      <td>0.999903</td>\n",
       "      <td>0.999946</td>\n",
       "      <td>0.000030</td>\n",
       "      <td>0.036326</td>\n",
       "      <td>...</td>\n",
       "      <td>0.000026</td>\n",
       "      <td>89.200210</td>\n",
       "      <td>89.065143</td>\n",
       "      <td>89.335277</td>\n",
       "      <td>0.191013</td>\n",
       "      <td>16.539349</td>\n",
       "      <td>16.539349</td>\n",
       "      <td>16.539349</td>\n",
       "      <td>0.628595</td>\n",
       "      <td>Car</td>\n",
       "    </tr>\n",
       "    <tr>\n",
       "      <th>2</th>\n",
       "      <td>150.0</td>\n",
       "      <td>9.827178</td>\n",
       "      <td>9.804817</td>\n",
       "      <td>9.849262</td>\n",
       "      <td>0.011199</td>\n",
       "      <td>0.665215</td>\n",
       "      <td>0.665213</td>\n",
       "      <td>0.665218</td>\n",
       "      <td>0.000004</td>\n",
       "      <td>0.001525</td>\n",
       "      <td>...</td>\n",
       "      <td>0.011312</td>\n",
       "      <td>0.000000</td>\n",
       "      <td>0.000000</td>\n",
       "      <td>0.000000</td>\n",
       "      <td>0.000000</td>\n",
       "      <td>0.000000</td>\n",
       "      <td>0.000000</td>\n",
       "      <td>0.000000</td>\n",
       "      <td>0.000000</td>\n",
       "      <td>Still</td>\n",
       "    </tr>\n",
       "    <tr>\n",
       "      <th>3</th>\n",
       "      <td>105.0</td>\n",
       "      <td>9.673039</td>\n",
       "      <td>7.659674</td>\n",
       "      <td>12.304298</td>\n",
       "      <td>0.862553</td>\n",
       "      <td>0.996221</td>\n",
       "      <td>0.993781</td>\n",
       "      <td>0.998661</td>\n",
       "      <td>0.003451</td>\n",
       "      <td>0.036440</td>\n",
       "      <td>...</td>\n",
       "      <td>0.002788</td>\n",
       "      <td>87.470377</td>\n",
       "      <td>87.470377</td>\n",
       "      <td>87.470377</td>\n",
       "      <td>2.284186</td>\n",
       "      <td>17.739895</td>\n",
       "      <td>17.739895</td>\n",
       "      <td>17.739895</td>\n",
       "      <td>0.628595</td>\n",
       "      <td>Car</td>\n",
       "    </tr>\n",
       "    <tr>\n",
       "      <th>4</th>\n",
       "      <td>77.0</td>\n",
       "      <td>9.993466</td>\n",
       "      <td>8.965621</td>\n",
       "      <td>10.891645</td>\n",
       "      <td>0.504117</td>\n",
       "      <td>0.563792</td>\n",
       "      <td>0.521799</td>\n",
       "      <td>0.672664</td>\n",
       "      <td>0.064792</td>\n",
       "      <td>0.183202</td>\n",
       "      <td>...</td>\n",
       "      <td>0.025608</td>\n",
       "      <td>89.770732</td>\n",
       "      <td>89.770732</td>\n",
       "      <td>89.770732</td>\n",
       "      <td>0.006389</td>\n",
       "      <td>9.000000</td>\n",
       "      <td>9.000000</td>\n",
       "      <td>9.000000</td>\n",
       "      <td>0.000000</td>\n",
       "      <td>Car</td>\n",
       "    </tr>\n",
       "  </tbody>\n",
       "</table>\n",
       "<p>5 rows × 38 columns</p>\n",
       "</div>"
      ],
      "text/plain": [
       "    time  android.sensor.accelerometer#mean  android.sensor.accelerometer#min  \\\n",
       "0   78.0                           9.811476                          9.758895   \n",
       "1  145.0                           9.939207                          7.707437   \n",
       "2  150.0                           9.827178                          9.804817   \n",
       "3  105.0                           9.673039                          7.659674   \n",
       "4   77.0                           9.993466                          8.965621   \n",
       "\n",
       "   android.sensor.accelerometer#max  android.sensor.accelerometer#std  \\\n",
       "0                          9.849411                          0.014626   \n",
       "1                         17.146631                          1.775944   \n",
       "2                          9.849262                          0.011199   \n",
       "3                         12.304298                          0.862553   \n",
       "4                         10.891645                          0.504117   \n",
       "\n",
       "   android.sensor.game_rotation_vector#mean  \\\n",
       "0                                  0.029340   \n",
       "1                                  0.999925   \n",
       "2                                  0.665215   \n",
       "3                                  0.996221   \n",
       "4                                  0.563792   \n",
       "\n",
       "   android.sensor.game_rotation_vector#min  \\\n",
       "0                                 0.029014   \n",
       "1                                 0.999903   \n",
       "2                                 0.665213   \n",
       "3                                 0.993781   \n",
       "4                                 0.521799   \n",
       "\n",
       "   android.sensor.game_rotation_vector#max  \\\n",
       "0                                 0.029526   \n",
       "1                                 0.999946   \n",
       "2                                 0.665218   \n",
       "3                                 0.998661   \n",
       "4                                 0.672664   \n",
       "\n",
       "   android.sensor.game_rotation_vector#std  android.sensor.gyroscope#mean  \\\n",
       "0                                 0.000119                       0.001651   \n",
       "1                                 0.000030                       0.036326   \n",
       "2                                 0.000004                       0.001525   \n",
       "3                                 0.003451                       0.036440   \n",
       "4                                 0.064792                       0.183202   \n",
       "\n",
       "   ...  android.sensor.rotation_vector#std  sound#mean  sound#min  sound#max  \\\n",
       "0  ...                            0.002109    0.000000   0.000000   0.000000   \n",
       "1  ...                            0.000026   89.200210  89.065143  89.335277   \n",
       "2  ...                            0.011312    0.000000   0.000000   0.000000   \n",
       "3  ...                            0.002788   87.470377  87.470377  87.470377   \n",
       "4  ...                            0.025608   89.770732  89.770732  89.770732   \n",
       "\n",
       "   sound#std  speed#mean  speed#min  speed#max  speed#std  target  \n",
       "0   0.000000    0.000000   0.000000   0.000000   0.000000   Still  \n",
       "1   0.191013   16.539349  16.539349  16.539349   0.628595     Car  \n",
       "2   0.000000    0.000000   0.000000   0.000000   0.000000   Still  \n",
       "3   2.284186   17.739895  17.739895  17.739895   0.628595     Car  \n",
       "4   0.006389    9.000000   9.000000   9.000000   0.000000     Car  \n",
       "\n",
       "[5 rows x 38 columns]"
      ]
     },
     "execution_count": 4,
     "metadata": {},
     "output_type": "execute_result"
    }
   ],
   "source": [
    "data.head()"
   ]
  },
  {
   "cell_type": "code",
   "execution_count": 21,
   "metadata": {},
   "outputs": [
    {
     "data": {
      "text/plain": [
       "(5893, 38)"
      ]
     },
     "execution_count": 21,
     "metadata": {},
     "output_type": "execute_result"
    }
   ],
   "source": [
    "data.shape"
   ]
  },
  {
   "cell_type": "code",
   "execution_count": 22,
   "metadata": {},
   "outputs": [],
   "source": [
    "label_mapping = {'Bus': 0, 'Car': 1, 'Still': 2, 'Train': 3, 'Walking': 4}\n",
    "data['target'] = [label_mapping[x] for x in data['target']]"
   ]
  },
  {
   "cell_type": "code",
   "execution_count": 23,
   "metadata": {},
   "outputs": [],
   "source": [
    "X = data.drop(columns=['target'])"
   ]
  },
  {
   "cell_type": "code",
   "execution_count": 24,
   "metadata": {},
   "outputs": [],
   "source": [
    "if hasattr(model, \"feature_names_in_\"):\n",
    "    X = X[model.feature_names_in_]\n",
    "else:\n",
    "    print(\"The model does not have feature_names_in_. Ensure manual alignment of features if needed.\")"
   ]
  },
  {
   "cell_type": "code",
   "execution_count": 25,
   "metadata": {},
   "outputs": [],
   "source": [
    "y = data['target']"
   ]
  },
  {
   "cell_type": "code",
   "execution_count": 26,
   "metadata": {},
   "outputs": [],
   "source": [
    "X = X.fillna(0)"
   ]
  },
  {
   "cell_type": "code",
   "execution_count": 27,
   "metadata": {},
   "outputs": [],
   "source": [
    "y_pred = model.predict(X)"
   ]
  },
  {
   "cell_type": "code",
   "execution_count": 28,
   "metadata": {},
   "outputs": [
    {
     "name": "stdout",
     "output_type": "stream",
     "text": [
      "Accuracy of the pretrained model on the additional dataset: 0.98\n"
     ]
    }
   ],
   "source": [
    "accuracy = accuracy_score(y, y_pred)\n",
    "print(f\"Accuracy of the pretrained model on the additional dataset: {accuracy:.2f}\")"
   ]
  }
 ],
 "metadata": {
  "kernelspec": {
   "display_name": ".venv",
   "language": "python",
   "name": "python3"
  },
  "language_info": {
   "codemirror_mode": {
    "name": "ipython",
    "version": 3
   },
   "file_extension": ".py",
   "mimetype": "text/x-python",
   "name": "python",
   "nbconvert_exporter": "python",
   "pygments_lexer": "ipython3",
   "version": "3.9.6"
  }
 },
 "nbformat": 4,
 "nbformat_minor": 2
}
